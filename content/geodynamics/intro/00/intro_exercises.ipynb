{
 "cells": [
  {
   "cell_type": "markdown",
   "metadata": {},
   "source": [
    "# Intro Exercises"
   ]
  },
  {
   "cell_type": "markdown",
   "metadata": {},
   "source": [
    "## Defining Variables. Importing libraries."
   ]
  },
  {
   "cell_type": "markdown",
   "metadata": {},
   "source": [
    "We define variables by setting values equal to something else. That something else can be another variable or any of the accepted Python objects. A non-exhaustive list is strings, intergers, floats, lists, dictionaries, sets. I won't delve into the idea of an object here, but think of it as a thing, with properties and behaviours."
   ]
  },
  {
   "cell_type": "code",
   "execution_count": null,
   "metadata": {},
   "outputs": [],
   "source": [
    "# import a math library in Python\n",
    "import math  # easy, right?\n",
    "\n",
    "# defining a variable to be equal to a string.\n",
    "x = 'this is a string'\n",
    "# defining a variable to be equal to another variable\n",
    "y = x\n",
    "# defining a variable as a float\n",
    "z = 0.1\n",
    "zz = 2  # this var zz is an interger!\n",
    "\n",
    "# what if I want the string x to have a '2' in it?\n",
    "new_x = x + str(zz)\n",
    "\n",
    "# could you, for instance do new_x = x + y? What error comes up?\n",
    "\n",
    "# what the heck did we just do? to find out, lets introduce the print() function. print() = life <- printing in python is HUGE\n",
    "print(new_x)\n",
    "\n",
    "# the reason we can do operations like that with strings is because strings have...\n",
    "# ...certain properties as a python object. You'll learn more about this as you go.\n",
    "\n",
    "print('Goodbye World')"
   ]
  },
  {
   "cell_type": "markdown",
   "metadata": {},
   "source": [
    "## Math in python"
   ]
  },
  {
   "cell_type": "markdown",
   "metadata": {},
   "source": [
    "Math in python is much like it would be in Matlab or other programming languages with it's own funky quirks."
   ]
  },
  {
   "cell_type": "code",
   "execution_count": 3,
   "metadata": {},
   "outputs": [
    {
     "data": {
      "text/plain": [
       "4"
      ]
     },
     "execution_count": 3,
     "metadata": {},
     "output_type": "execute_result"
    }
   ],
   "source": [
    "2 + 2"
   ]
  },
  {
   "cell_type": "code",
   "execution_count": 4,
   "metadata": {},
   "outputs": [
    {
     "data": {
      "text/plain": [
       "2.0"
      ]
     },
     "execution_count": 4,
     "metadata": {},
     "output_type": "execute_result"
    }
   ],
   "source": [
    "4/2"
   ]
  },
  {
   "cell_type": "code",
   "execution_count": 5,
   "metadata": {},
   "outputs": [
    {
     "data": {
      "text/plain": [
       "0"
      ]
     },
     "execution_count": 5,
     "metadata": {},
     "output_type": "execute_result"
    }
   ],
   "source": [
    "4%2"
   ]
  },
  {
   "cell_type": "code",
   "execution_count": 6,
   "metadata": {},
   "outputs": [
    {
     "data": {
      "text/plain": [
       "1"
      ]
     },
     "execution_count": 6,
     "metadata": {},
     "output_type": "execute_result"
    }
   ],
   "source": [
    "13 % 2"
   ]
  },
  {
   "cell_type": "code",
   "execution_count": 2,
   "metadata": {},
   "outputs": [
    {
     "name": "stdout",
     "output_type": "stream",
     "text": [
      "4.0\n",
      "0.0\n",
      "2.0\n",
      "9\n",
      "9\n"
     ]
    }
   ],
   "source": [
    "# floats are different?!?!?!\n",
    "print(2.0 + 2.0)\n",
    "\n",
    "print(4 % 2.0)\n",
    "\n",
    "print(4.0 / 2.0)\n",
    "\n",
    "# multiply\n",
    "print(3 * 3)\n",
    "\n",
    "# powers\n",
    "print(3 ** 2)\n",
    "\n",
    "\n",
    "# try running this cell without printing everything. What happens?"
   ]
  },
  {
   "cell_type": "markdown",
   "metadata": {},
   "source": [
    "## File I/O"
   ]
  },
  {
   "cell_type": "code",
   "execution_count": 7,
   "metadata": {},
   "outputs": [
    {
     "ename": "FileNotFoundError",
     "evalue": "[Errno 2] No such file or directory: 'a/path/to/afile/onyourcomputer.csv'",
     "output_type": "error",
     "traceback": [
      "\u001b[1;31m---------------------------------------------------------------------------\u001b[0m",
      "\u001b[1;31mFileNotFoundError\u001b[0m                         Traceback (most recent call last)",
      "\u001b[1;32m<ipython-input-7-9885f365e5f2>\u001b[0m in \u001b[0;36m<module>\u001b[1;34m()\u001b[0m\n\u001b[0;32m      4\u001b[0m \u001b[1;33m\u001b[0m\u001b[0m\n\u001b[0;32m      5\u001b[0m \u001b[1;31m# why would we use with here.\u001b[0m\u001b[1;33m\u001b[0m\u001b[1;33m\u001b[0m\u001b[0m\n\u001b[1;32m----> 6\u001b[1;33m \u001b[1;32mwith\u001b[0m \u001b[0mopen\u001b[0m\u001b[1;33m(\u001b[0m\u001b[0mp\u001b[0m\u001b[1;33m,\u001b[0m \u001b[1;34m'r'\u001b[0m\u001b[1;33m)\u001b[0m \u001b[1;32mas\u001b[0m \u001b[0mrfile\u001b[0m\u001b[1;33m:\u001b[0m\u001b[1;33m\u001b[0m\u001b[0m\n\u001b[0m\u001b[0;32m      7\u001b[0m     \u001b[1;32mfor\u001b[0m \u001b[0mline\u001b[0m \u001b[1;32min\u001b[0m \u001b[0mrfile\u001b[0m\u001b[1;33m:\u001b[0m\u001b[1;33m\u001b[0m\u001b[0m\n\u001b[0;32m      8\u001b[0m         \u001b[0mprint\u001b[0m\u001b[1;33m(\u001b[0m\u001b[0mline\u001b[0m\u001b[1;33m)\u001b[0m\u001b[1;33m\u001b[0m\u001b[0m\n",
      "\u001b[1;31mFileNotFoundError\u001b[0m: [Errno 2] No such file or directory: 'a/path/to/afile/onyourcomputer.csv'"
     ]
    }
   ],
   "source": [
    "# here I will do a quick example. There are simpler versions and you should read about input and output online.\n",
    "\n",
    "p = 'a/path/to/afile/onyourcomputer.csv'\n",
    "\n",
    "# why would we use 'with' here. What does the 'r' mean? What would happen if you used a 'w' or 'a' instead of 'r'?\n",
    "with open(p, 'r') as rfile:\n",
    "    for line in rfile:\n",
    "        print(line)\n",
    "        \n"
   ]
  },
  {
   "cell_type": "markdown",
   "metadata": {},
   "source": [
    "If you run the above code, are you surprised that it doesn't work? What does the error message say?\n",
    "\n",
    "Writing to files is done the same way, but using 'w'. Understand the differences in 'mode' ('r' vs 'w' vs 'a') when opening files. They are consequential and can destroy datasets if you are not careful. Practice with files you do not care about or have made copies of."
   ]
  },
  {
   "cell_type": "markdown",
   "metadata": {},
   "source": [
    "## Plotting in 2D and 3D"
   ]
  },
  {
   "cell_type": "code",
   "execution_count": 9,
   "metadata": {},
   "outputs": [
    {
     "data": {
      "image/png": "[encoded data removed]",
      "text/plain": [
       "<Figure size 432x288 with 1 Axes>"
      ]
     },
     "metadata": {},
     "output_type": "display_data"
    }
   ],
   "source": [
    "# lets do it. we need the matplotlib library. if i didn't write 'as plt' i would have to write pyplot instead of plt in the code\n",
    "from matplotlib import pyplot as plt\n",
    "\n",
    "# to plot something in 2 dimensions. you need, well, two dimensions.\n",
    "\n",
    "# dimension one, well call x\n",
    "x = [1, 2, 3, 4]\n",
    "# lets call the next one y\n",
    "y = [2, 4, 6, 8]\n",
    "\n",
    "plt.plot(x, y)\n",
    "plt.show()\n",
    "\n"
   ]
  },
  {
   "cell_type": "markdown",
   "metadata": {},
   "source": [
    "Pretty easy! But it gets more complex. Lets do one more easy example and save the more complex stuff for the big exercise."
   ]
  },
  {
   "cell_type": "code",
   "execution_count": null,
   "metadata": {},
   "outputs": [],
   "source": []
  },
  {
   "cell_type": "markdown",
   "metadata": {},
   "source": [
    "## For and While Loops"
   ]
  },
  {
   "cell_type": "markdown",
   "metadata": {},
   "source": [
    "Let's use the plotting example to demonstrate a for loop. Look up while loops on your own. They're less common."
   ]
  },
  {
   "cell_type": "code",
   "execution_count": 11,
   "metadata": {},
   "outputs": [
    {
     "name": "stdout",
     "output_type": "stream",
     "text": [
      "the new y list \n",
      " [1, 4, 9, 16]\n"
     ]
    },
    {
     "data": {
      "image/png": "[encoded data removed]",
      "text/plain": [
       "<Figure size 432x288 with 1 Axes>"
      ]
     },
     "metadata": {},
     "output_type": "display_data"
    }
   ],
   "source": [
    "# an empty list\n",
    "a_new_y_lst = []\n",
    "# x is a list, so 'for' every 'val' in that list, we'll do something!\n",
    "for val in x:\n",
    "    # we say y is a function of x. and that function is y = x^2 \n",
    "    y = val ** 2\n",
    "    # we put this new y value corresponding to the x value, into the empty list\n",
    "    a_new_y_lst.append(y)\n",
    "    \n",
    "print('the new y list \\n', a_new_y_lst)\n",
    "\n",
    "plt.plot(x, a_new_y_lst)\n",
    "plt.show()"
   ]
  },
  {
   "cell_type": "markdown",
   "metadata": {},
   "source": [
    "The exponential relationship between x and y is revealed by the new plot!"
   ]
  },
  {
   "cell_type": "markdown",
   "metadata": {},
   "source": [
    "## Condition Statements"
   ]
  },
  {
   "cell_type": "code",
   "execution_count": 15,
   "metadata": {},
   "outputs": [
    {
     "name": "stdout",
     "output_type": "stream",
     "text": [
      "1  was most certainly and interger...\n",
      "was i greater than 1\n",
      "1 is not greater than 1\n",
      "2  was most certainly and interger...\n",
      "was i greater than 1\n",
      " 2 is greater than 1\n",
      "4  was most certainly and interger...\n",
      "was i greater than 1\n",
      " 4 is greater than 1\n",
      "4 was a string\n",
      "the i below has no . \n",
      "4\n",
      "10.0 was a string\n",
      "10.0 has a period\n"
     ]
    }
   ],
   "source": [
    "# lets just start right in. pay attention to what i place in the list\n",
    "lst = [1, 2, 4, '4', 4.0, 9.2, '10.0']\n",
    "\n",
    "for i in lst:\n",
    "    \n",
    "    if type(i) == str:\n",
    "        print('{} was a string'.format(i))\n",
    "        \n",
    "    elif type(i) == int:\n",
    "        print(i,' was most certainly and interger...')\n",
    "        \n",
    "        print('was i greater than 1')\n",
    "        if i > 1:\n",
    "            # what's going on with this string? google it\n",
    "            print(f' {i} is greater than 1')\n",
    "        else:\n",
    "            print(str(i) + ' is not greater than 1')\n",
    "        \n",
    "    \n",
    "    try:\n",
    "        if '.' in i:\n",
    "            print('{} has a period'.format(i))\n",
    "\n",
    "        else:\n",
    "            print('the i below has no . ')\n",
    "            print(i)\n",
    "            # why does this line not get executed? Change the order of the conditional statements until it does.\n",
    "            if type(i) == float:\n",
    "                print('but it was a float')\n",
    "    except:\n",
    "        continue"
   ]
  },
  {
   "cell_type": "markdown",
   "metadata": {},
   "source": [
    "## Numpy Arrays"
   ]
  },
  {
   "cell_type": "code",
   "execution_count": null,
   "metadata": {},
   "outputs": [],
   "source": []
  },
  {
   "cell_type": "markdown",
   "metadata": {},
   "source": [
    "## Plotting sin() and cos() in 2D and 3D"
   ]
  },
  {
   "cell_type": "code",
   "execution_count": null,
   "metadata": {},
   "outputs": [],
   "source": []
  }
 ],
 "metadata": {
  "kernelspec": {
   "display_name": "Python 3",
   "language": "python",
   "name": "python3"
  },
  "language_info": {
   "codemirror_mode": {
    "name": "ipython",
    "version": 3
   },
   "file_extension": ".py",
   "mimetype": "text/x-python",
   "name": "python",
   "nbconvert_exporter": "python",
   "pygments_lexer": "ipython3",
   "version": "3.6.5"
  }
 },
 "nbformat": 4,
 "nbformat_minor": 2
}
